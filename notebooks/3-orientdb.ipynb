{
 "cells": [
  {
   "cell_type": "markdown",
   "metadata": {},
   "source": [
    "# OrientDB tutorial"
   ]
  },
  {
   "cell_type": "markdown",
   "metadata": {},
   "source": [
    "## Prerequisites"
   ]
  },
  {
   "cell_type": "markdown",
   "metadata": {},
   "source": [
    "### Documentation\n",
    "\n",
    "You will find all documentation for :\n",
    "* [OrientDB SQL reference](http://www.orientdb.com/docs/last/SQL-Functions.html)\n",
    "* [Orientdb python client](http://orientdb.com/docs/last/PyOrient-Client.html#working-with-the-client)"
   ]
  },
  {
   "cell_type": "markdown",
   "metadata": {},
   "source": [
    "## Import libraries"
   ]
  },
  {
   "cell_type": "code",
   "execution_count": 30,
   "metadata": {},
   "outputs": [],
   "source": [
    "import pyorient"
   ]
  },
  {
   "cell_type": "code",
   "execution_count": 31,
   "metadata": {},
   "outputs": [],
   "source": [
    "ROOT_PASSWORD = \"root\"\n",
    "client = pyorient.OrientDB(\"localhost\", 2424)\n",
    "session_id = client.connect(\"root\", ROOT_PASSWORD)"
   ]
  },
  {
   "cell_type": "code",
   "execution_count": 32,
   "metadata": {},
   "outputs": [
    {
     "name": "stdout",
     "output_type": "stream",
     "text": [
      "{{'databases': {}}}\n"
     ]
    }
   ],
   "source": [
    "print(client.db_list())"
   ]
  },
  {
   "cell_type": "markdown",
   "metadata": {},
   "source": [
    "## I. Quick start"
   ]
  },
  {
   "cell_type": "markdown",
   "metadata": {},
   "source": [
    "### Creating the database"
   ]
  },
  {
   "cell_type": "markdown",
   "metadata": {},
   "source": [
    "**Q:** Create a database `gods` as a `GRAPH_DATABASE` in `MEMORY_STORAGE_TYPE`. \n",
    "\n",
    "We will use it to store relationships between Greek deities."
   ]
  },
  {
   "cell_type": "code",
   "execution_count": 33,
   "metadata": {},
   "outputs": [],
   "source": [
    "client.db_create(\"gods\", \"graph\", \"memory\")"
   ]
  },
  {
   "cell_type": "markdown",
   "metadata": {},
   "source": [
    "**Q:** Connect your pyorient client to the `gods` database."
   ]
  },
  {
   "cell_type": "code",
   "execution_count": 34,
   "metadata": {},
   "outputs": [
    {
     "data": {
      "text/plain": [
       "[<pyorient.otypes.OrientCluster at 0x238129a2b00>,\n",
       " <pyorient.otypes.OrientCluster at 0x238811c72e8>,\n",
       " <pyorient.otypes.OrientCluster at 0x238811c70f0>,\n",
       " <pyorient.otypes.OrientCluster at 0x238811c72b0>,\n",
       " <pyorient.otypes.OrientCluster at 0x238811c70b8>,\n",
       " <pyorient.otypes.OrientCluster at 0x238811c7438>,\n",
       " <pyorient.otypes.OrientCluster at 0x238811c7588>,\n",
       " <pyorient.otypes.OrientCluster at 0x238811c7550>,\n",
       " <pyorient.otypes.OrientCluster at 0x238811c76d8>,\n",
       " <pyorient.otypes.OrientCluster at 0x238811c7748>,\n",
       " <pyorient.otypes.OrientCluster at 0x238811c7630>,\n",
       " <pyorient.otypes.OrientCluster at 0x238811c76a0>,\n",
       " <pyorient.otypes.OrientCluster at 0x238811c7710>,\n",
       " <pyorient.otypes.OrientCluster at 0x238811c7860>,\n",
       " <pyorient.otypes.OrientCluster at 0x238811c77b8>,\n",
       " <pyorient.otypes.OrientCluster at 0x238811c7828>,\n",
       " <pyorient.otypes.OrientCluster at 0x238811c7668>,\n",
       " <pyorient.otypes.OrientCluster at 0x238811c77f0>,\n",
       " <pyorient.otypes.OrientCluster at 0x238811c7898>,\n",
       " <pyorient.otypes.OrientCluster at 0x238811c7780>,\n",
       " <pyorient.otypes.OrientCluster at 0x238811c78d0>,\n",
       " <pyorient.otypes.OrientCluster at 0x238811c7908>,\n",
       " <pyorient.otypes.OrientCluster at 0x238811c7940>,\n",
       " <pyorient.otypes.OrientCluster at 0x238811c7978>,\n",
       " <pyorient.otypes.OrientCluster at 0x238811c79b0>,\n",
       " <pyorient.otypes.OrientCluster at 0x238811c79e8>,\n",
       " <pyorient.otypes.OrientCluster at 0x238811c7a20>,\n",
       " <pyorient.otypes.OrientCluster at 0x238811c7a58>,\n",
       " <pyorient.otypes.OrientCluster at 0x238811c7a90>,\n",
       " <pyorient.otypes.OrientCluster at 0x238811c7ac8>,\n",
       " <pyorient.otypes.OrientCluster at 0x238811c7b00>,\n",
       " <pyorient.otypes.OrientCluster at 0x238811c7b38>,\n",
       " <pyorient.otypes.OrientCluster at 0x238811c7b70>]"
      ]
     },
     "execution_count": 34,
     "metadata": {},
     "output_type": "execute_result"
    }
   ],
   "source": [
    "client.db_open(\"gods\", \"root\", ROOT_PASSWORD)"
   ]
  },
  {
   "cell_type": "markdown",
   "metadata": {},
   "source": [
    "**Q:** You should now be able to launch OrientDB queries through the Python client with the [command()](http://orientdb.com/docs/last/PyOrient-Client-Command.html) function. \n",
    "\n",
    "You should think of OrientDB as a Graph-Document database for the following questions. Each vertex and edge will contain information on it inside a JSON document.\n",
    "\n",
    "Create a new Vertex with content `{name: 'Zeus', symbol: 'thunder'}`. The [CREATE VERTEX : Create a vertex using JSON content](http://orientdb.com/docs/last/SQL-Create-Vertex.html) doc page should help you."
   ]
  },
  {
   "cell_type": "code",
   "execution_count": 35,
   "metadata": {},
   "outputs": [],
   "source": [
    "vertex = client.command(\"CREATE VERTEX CONTENT {name: 'Zeus', symbol: 'thunder'}\")"
   ]
  },
  {
   "cell_type": "markdown",
   "metadata": {},
   "source": [
    "You have created a VERTEX in the previous question. The VERTEX is a [class](https://orientdb.com/docs/last/Tutorial-Classes.html) of OrientDB which defines a record that can be linked to others through EDGE instances.\n",
    "\n",
    "You can find all VERTEX created in the database with a SQL command on the `V` table, like `SELECT * FROM V`. \n",
    "\n",
    "**Q:** Print all current vertices in `gods`, it should only have `Zeus` though for now."
   ]
  },
  {
   "cell_type": "code",
   "execution_count": 36,
   "metadata": {},
   "outputs": [
    {
     "data": {
      "text/plain": [
       "[<pyorient.otypes.OrientRecord at 0x238129a2a90>]"
      ]
     },
     "execution_count": 36,
     "metadata": {},
     "output_type": "execute_result"
    }
   ],
   "source": [
    "client.command(\"SELECT * FROM V\")"
   ]
  },
  {
   "cell_type": "markdown",
   "metadata": {},
   "source": [
    "**Q:** Create new vertices with content : \n",
    "```\n",
    "{name:Héra, symbol:tiara}\n",
    "{name:Poséidon, symbol:trident}\n",
    "{name:Athena, symbol:helmet}\n",
    "{name:Arès, symbol:weapons} \n",
    "```"
   ]
  },
  {
   "cell_type": "code",
   "execution_count": 37,
   "metadata": {},
   "outputs": [
    {
     "data": {
      "text/plain": [
       "[<pyorient.otypes.OrientRecord at 0x23812963ef0>]"
      ]
     },
     "execution_count": 37,
     "metadata": {},
     "output_type": "execute_result"
    }
   ],
   "source": [
    "client.command(\"CREATE VERTEX CONTENT {name:'Héra', symbol:'tiara'}\")\n",
    "client.command(\"CREATE VERTEX CONTENT {name:'Poséidon', symbol:'trident'}\")\n",
    "client.command(\"CREATE VERTEX CONTENT {name:'Athena', symbol:'helmet'}\")\n",
    "client.command(\"CREATE VERTEX CONTENT {name:'Arès', symbol:'weapons'}\")"
   ]
  },
  {
   "cell_type": "markdown",
   "metadata": {},
   "source": [
    "**Q:** Display all vertices with name = `Arès`"
   ]
  },
  {
   "cell_type": "code",
   "execution_count": 38,
   "metadata": {},
   "outputs": [
    {
     "name": "stdout",
     "output_type": "stream",
     "text": [
      "{'@V':{'name': 'Arès', 'symbol': 'weapons'},'version':1,'rid':'#13:0'}\n"
     ]
    }
   ],
   "source": [
    "for i in client.query(\"SELECT * FROM V WHERE name = 'Arès'\"):\n",
    "    print(i)"
   ]
  },
  {
   "cell_type": "markdown",
   "metadata": {},
   "source": [
    "**Q:** Create an EDGE from `Zeus` to `Poséidon` with the content `{kind: 'sibling'}"
   ]
  },
  {
   "cell_type": "code",
   "execution_count": 39,
   "metadata": {},
   "outputs": [
    {
     "data": {
      "text/plain": [
       "[<pyorient.otypes.OrientRecord at 0x23812346710>]"
      ]
     },
     "execution_count": 39,
     "metadata": {},
     "output_type": "execute_result"
    }
   ],
   "source": [
    "vertex_zeus = client.command(\"SELECT * FROM V WHERE name = 'Zeus'\")\n",
    "vertex_poseidon = client.command(\"SELECT * FROM V WHERE name = 'Poséidon'\")\n",
    "\n",
    "client.command(f\"CREATE EDGE E FROM {vertex_zeus[0]._rid} TO {vertex_poseidon[0]._rid} CONTENT {{'kind': 'sibling'}}\")"
   ]
  },
  {
   "cell_type": "markdown",
   "metadata": {},
   "source": [
    "**Q:** Redisplay all vertices, discuss."
   ]
  },
  {
   "cell_type": "code",
   "execution_count": 40,
   "metadata": {},
   "outputs": [
    {
     "name": "stdout",
     "output_type": "stream",
     "text": [
      "{'@V':{'name': 'Zeus', 'symbol': 'thunder', 'out_': <pyorient.otypes.OrientBinaryObject object at 0x00000238811D2128>},'version':2,'rid':'#9:0'}\n",
      "{'@V':{'name': 'Héra', 'symbol': 'tiara'},'version':1,'rid':'#10:0'}\n",
      "{'@V':{'name': 'Poséidon', 'symbol': 'trident', 'in_': <pyorient.otypes.OrientBinaryObject object at 0x00000238811D2358>},'version':2,'rid':'#11:0'}\n",
      "{'@V':{'name': 'Athena', 'symbol': 'helmet'},'version':1,'rid':'#12:0'}\n",
      "{'@V':{'name': 'Arès', 'symbol': 'weapons'},'version':1,'rid':'#13:0'}\n"
     ]
    }
   ],
   "source": [
    "for i in client.query(\"SELECT * FROM V\"):\n",
    "    print(i)"
   ]
  },
  {
   "cell_type": "markdown",
   "metadata": {},
   "source": [
    "**Q:** Display all edges. They are contained in the class `E`"
   ]
  },
  {
   "cell_type": "code",
   "execution_count": 41,
   "metadata": {},
   "outputs": [
    {
     "name": "stdout",
     "output_type": "stream",
     "text": [
      "{'@E':{'kind': 'sibling', 'out': <pyorient.otypes.OrientRecordLink object at 0x00000238811C7C18>, 'in': <pyorient.otypes.OrientRecordLink object at 0x00000238811C7F28>},'version':1,'rid':'#21:0'}\n"
     ]
    }
   ],
   "source": [
    "for i in client.query(\"SELECT * FROM E\"):\n",
    "    print(i)"
   ]
  },
  {
   "cell_type": "markdown",
   "metadata": {},
   "source": [
    "Two fields on vertices have appeared, containing the outgoing (out_) and incoming (in_) links.\n",
    "\n",
    "At the edge level, two fields point to the original (out) and destination (in) vertices.\n",
    "\n",
    "**Q:** Lets create some more edges :\n",
    "\n",
    "* Zeus > Héra (sibling)\n",
    "* Zeus > Arès (father)\n",
    "* Zeus > Athena (father)\n",
    "* Héra > Arès (mother)\n",
    "* Héra > Zeus (sibling)\n",
    "* Poséidon > Zeus (sibling)\n",
    "\n",
    "_Hint 1 :_ check [the CREATE EDGE doc page](http://orientdb.com/docs/last/SQL-Create-Edge.html) to find an example for creating edges on vertices using subqueries so you can run queries to fetch the vertices before creating an edge in between.\n",
    "\n",
    "_Hint 2 :_ after you have found the command to create edges between vertices with sub-queries, you should be well-versed enough in Python to create a list of all edges in the question, and loop the command on each element of the list to create all edges in one go =)"
   ]
  },
  {
   "cell_type": "code",
   "execution_count": 42,
   "metadata": {},
   "outputs": [
    {
     "data": {
      "text/plain": [
       "[<pyorient.otypes.OrientRecord at 0x238811d29b0>]"
      ]
     },
     "execution_count": 42,
     "metadata": {},
     "output_type": "execute_result"
    }
   ],
   "source": [
    "client.command(f\"CREATE EDGE FROM (SELECT FROM V WHERE name = 'Zeus') TO (SELECT FROM V WHERE name = 'Héra') CONTENT {{'kind': 'sibling'}} \")\n",
    "\n",
    "client.command(f\"CREATE EDGE FROM (SELECT FROM V WHERE name = 'Zeus') TO (SELECT FROM V WHERE name = 'Arès') CONTENT {{'kind': 'father'}} \")\n",
    "\n",
    "client.command(f\"CREATE EDGE FROM (SELECT FROM V WHERE name = 'Zeus') TO (SELECT FROM V WHERE name = 'Athena') CONTENT {{'kind': 'father'}} \")\n",
    "\n",
    "client.command(f\"CREATE EDGE FROM (SELECT FROM V WHERE name = 'Héra') TO (SELECT FROM V WHERE name = 'Arès') CONTENT {{'kind': 'mother'}} \")\n",
    "\n",
    "client.command(f\"CREATE EDGE FROM (SELECT FROM V WHERE name = 'Héra') TO (SELECT FROM V WHERE name = 'Zeus') CONTENT {{'kind': 'sibling'}} \")\n",
    "\n",
    "client.command(f\"CREATE EDGE FROM (SELECT FROM V WHERE name = 'Poséidon') TO (SELECT FROM V WHERE name = 'Zeus') CONTENT {{'kind': 'sibling'}} \")"
   ]
  },
  {
   "cell_type": "markdown",
   "metadata": {},
   "source": [
    "### Looking for data"
   ]
  },
  {
   "cell_type": "markdown",
   "metadata": {},
   "source": [
    "**Q:** Using [out()](http://orientdb.com/docs/last/Tutorial-Working-with-graphs.html#querying-graphs) function, display all vertices connected and outgoing from Zeus.\n",
    "\n",
    "You should use the EXPAND() special function to transform the vertex collection in the result-set by expanding it, making the results more readable."
   ]
  },
  {
   "cell_type": "code",
   "execution_count": 43,
   "metadata": {},
   "outputs": [
    {
     "name": "stdout",
     "output_type": "stream",
     "text": [
      "{'@V':{'name': 'Poséidon', 'symbol': 'trident', 'in_': <pyorient.otypes.OrientBinaryObject object at 0x00000238811D28D0>, 'out_': <pyorient.otypes.OrientBinaryObject object at 0x00000238811D2860>},'version':3,'rid':'#11:0'}\n",
      "{'@V':{'out_': <pyorient.otypes.OrientBinaryObject object at 0x00000238811D2710>, 'name': 'Héra', 'symbol': 'tiara', 'in_': <pyorient.otypes.OrientBinaryObject object at 0x00000238811D2080>},'version':4,'rid':'#10:0'}\n",
      "{'@V':{'in_': <pyorient.otypes.OrientBinaryObject object at 0x00000238811D2400>, 'name': 'Arès', 'symbol': 'weapons'},'version':3,'rid':'#13:0'}\n",
      "{'@V':{'name': 'Athena', 'symbol': 'helmet', 'in_': <pyorient.otypes.OrientBinaryObject object at 0x00000238811D2B70>},'version':2,'rid':'#12:0'}\n"
     ]
    }
   ],
   "source": [
    "for i in client.command(\"SELECT expand(out()) FROM V WHERE name = 'Zeus'\"):\n",
    "    print(i)"
   ]
  },
  {
   "cell_type": "markdown",
   "metadata": {},
   "source": [
    "**Q:** Display all vertices which got a father (the vertices which are the destination of an arc whose kind attribute is father).\n",
    "\n",
    "_Hint: You can notice that we use the field `in` the arc, and not the function `in()` which applies to vertices._"
   ]
  },
  {
   "cell_type": "code",
   "execution_count": 44,
   "metadata": {},
   "outputs": [
    {
     "name": "stdout",
     "output_type": "stream",
     "text": [
      "{'@V':{'in_': <pyorient.otypes.OrientBinaryObject object at 0x00000238811C7CF8>, 'name': 'Arès', 'symbol': 'weapons'},'version':3,'rid':'#13:0'}\n",
      "{'@V':{'name': 'Athena', 'symbol': 'helmet', 'in_': <pyorient.otypes.OrientBinaryObject object at 0x00000238811D2860>},'version':2,'rid':'#12:0'}\n"
     ]
    }
   ],
   "source": [
    "for i in client.query(\"SELECT EXPAND(in) FROM E WHERE kind = 'father'\"):\n",
    "    print(i)"
   ]
  },
  {
   "cell_type": "markdown",
   "metadata": {},
   "source": [
    "**Q:** As in SQL, the operator `in` used in a clause `where` allows to restrict the possible values with an embedded query _(where ... in (select ...))_. \n",
    "\n",
    "Display the mothers, by displaying the vertices where an outgoing arc is part of the arcs where kind is a mother."
   ]
  },
  {
   "cell_type": "code",
   "execution_count": 45,
   "metadata": {},
   "outputs": [
    {
     "name": "stdout",
     "output_type": "stream",
     "text": [
      "{'@V':{'out_': <pyorient.otypes.OrientBinaryObject object at 0x00000238129A73C8>, 'name': 'Héra', 'symbol': 'tiara', 'in_': <pyorient.otypes.OrientBinaryObject object at 0x00000238811D2978>},'version':4,'rid':'#10:0'}\n"
     ]
    }
   ],
   "source": [
    "for i  in client.command(\"SELECT EXPAND(out) FROM E WHERE kind = 'mother'\"):\n",
    "    print(i)"
   ]
  },
  {
   "cell_type": "markdown",
   "metadata": {},
   "source": [
    "**Q:** Display the brothers and sisters of Zeus (the destination summits of an arc whose kind is sibling and whose original summit is Zeus)."
   ]
  },
  {
   "cell_type": "code",
   "execution_count": 46,
   "metadata": {},
   "outputs": [
    {
     "name": "stdout",
     "output_type": "stream",
     "text": [
      "{'@V':{'name': 'Héra', 'out_': <pyorient.otypes.OrientBinaryObject object at 0x00000238811C7CC0>, 'symbol': 'tiara', 'in_': <pyorient.otypes.OrientBinaryObject object at 0x00000238811D26D8>},'version':4,'rid':'#10:0'}\n",
      "{'@V':{'name': 'Poséidon', 'symbol': 'trident', 'in_': <pyorient.otypes.OrientBinaryObject object at 0x00000238811D2048>, 'out_': <pyorient.otypes.OrientBinaryObject object at 0x00000238811D23C8>},'version':3,'rid':'#11:0'}\n"
     ]
    }
   ],
   "source": [
    "for i in client.command(\"SELECT EXPAND(out) FROM E WHERE kind = 'sibling' AND in.name = 'Zeus'\"):\n",
    "    print (i)"
   ]
  },
  {
   "cell_type": "markdown",
   "metadata": {},
   "source": [
    "## Modeling a Product Recommendation System"
   ]
  },
  {
   "cell_type": "markdown",
   "metadata": {},
   "source": [
    "You are currently modeling the data of a product recommendation system with OrientDB.\n",
    "\n",
    "The main purpose of such a system is to answer the question \"which products were purchased by their people who purchased product X? »\n",
    "\n",
    "Purchased products have only one name field. They are purchased by people who have a nickname.\n",
    "\n",
    "When a person buys a product, the date of purchase is stored. \n",
    "\n",
    "Instead of working with \"anonymous\" vertices and arcs, you will use classes. The `create class` command allows you to create custom classes.\n",
    "\n",
    "The vertex classes must extend V, the arc classes must extend E."
   ]
  },
  {
   "cell_type": "markdown",
   "metadata": {},
   "source": [
    "**Q:** Create an `eCommerce` database, and the necessary classes to model the system.\n",
    "\n",
    "PS : you can view all classes in the database with :\n",
    "\n",
    "```python\n",
    "for name in client.command(\"SELECT name FROM (SELECT expand(classes) FROM metadata:schema)\"):\n",
    "    print(name)\n",
    "```"
   ]
  },
  {
   "cell_type": "code",
   "execution_count": 47,
   "metadata": {},
   "outputs": [],
   "source": [
    "client.db_create(\"eCommerce\", \"graph\", \"memory\")"
   ]
  },
  {
   "cell_type": "code",
   "execution_count": 48,
   "metadata": {},
   "outputs": [
    {
     "data": {
      "text/plain": [
       "[<pyorient.otypes.OrientCluster at 0x238811c75c0>,\n",
       " <pyorient.otypes.OrientCluster at 0x238811c7cc0>,\n",
       " <pyorient.otypes.OrientCluster at 0x238129a70b8>,\n",
       " <pyorient.otypes.OrientCluster at 0x238129a7208>,\n",
       " <pyorient.otypes.OrientCluster at 0x238129a7860>,\n",
       " <pyorient.otypes.OrientCluster at 0x238129a7cc0>,\n",
       " <pyorient.otypes.OrientCluster at 0x238129a73c8>,\n",
       " <pyorient.otypes.OrientCluster at 0x238129a2a20>,\n",
       " <pyorient.otypes.OrientCluster at 0x238129a2978>,\n",
       " <pyorient.otypes.OrientCluster at 0x238129a2588>,\n",
       " <pyorient.otypes.OrientCluster at 0x238129a2e10>,\n",
       " <pyorient.otypes.OrientCluster at 0x238129a2550>,\n",
       " <pyorient.otypes.OrientCluster at 0x238811d26d8>,\n",
       " <pyorient.otypes.OrientCluster at 0x238811d2438>,\n",
       " <pyorient.otypes.OrientCluster at 0x238811d2860>,\n",
       " <pyorient.otypes.OrientCluster at 0x238811d2978>,\n",
       " <pyorient.otypes.OrientCluster at 0x238811d2b70>,\n",
       " <pyorient.otypes.OrientCluster at 0x238811d2780>,\n",
       " <pyorient.otypes.OrientCluster at 0x238811d2358>,\n",
       " <pyorient.otypes.OrientCluster at 0x238811d20f0>,\n",
       " <pyorient.otypes.OrientCluster at 0x238811d2240>,\n",
       " <pyorient.otypes.OrientCluster at 0x238811d2710>,\n",
       " <pyorient.otypes.OrientCluster at 0x238811d2828>,\n",
       " <pyorient.otypes.OrientCluster at 0x238811d2208>,\n",
       " <pyorient.otypes.OrientCluster at 0x238811d2278>,\n",
       " <pyorient.otypes.OrientCluster at 0x238811d22b0>,\n",
       " <pyorient.otypes.OrientCluster at 0x238811d22e8>,\n",
       " <pyorient.otypes.OrientCluster at 0x238811d27b8>,\n",
       " <pyorient.otypes.OrientCluster at 0x238811d2400>,\n",
       " <pyorient.otypes.OrientCluster at 0x238811d2320>,\n",
       " <pyorient.otypes.OrientCluster at 0x238811d2390>,\n",
       " <pyorient.otypes.OrientCluster at 0x238811d2128>,\n",
       " <pyorient.otypes.OrientCluster at 0x238811d2c50>]"
      ]
     },
     "execution_count": 48,
     "metadata": {},
     "output_type": "execute_result"
    }
   ],
   "source": [
    "client.db_open(\"eCommerce\", \"root\", ROOT_PASSWORD)"
   ]
  },
  {
   "cell_type": "code",
   "execution_count": 49,
   "metadata": {},
   "outputs": [
    {
     "data": {
      "text/plain": [
       "[11]"
      ]
     },
     "execution_count": 49,
     "metadata": {},
     "output_type": "execute_result"
    }
   ],
   "source": [
    "client.command(\"CREATE CLASS Product EXTENDS V\")"
   ]
  },
  {
   "cell_type": "code",
   "execution_count": 50,
   "metadata": {},
   "outputs": [
    {
     "data": {
      "text/plain": [
       "[12]"
      ]
     },
     "execution_count": 50,
     "metadata": {},
     "output_type": "execute_result"
    }
   ],
   "source": [
    "client.command(\"CREATE CLASS Person EXTENDS V\")"
   ]
  },
  {
   "cell_type": "code",
   "execution_count": 51,
   "metadata": {},
   "outputs": [
    {
     "data": {
      "text/plain": [
       "[13]"
      ]
     },
     "execution_count": 51,
     "metadata": {},
     "output_type": "execute_result"
    }
   ],
   "source": [
    "client.command(\"CREATE CLASS Purchased EXTENDS E\")"
   ]
  },
  {
   "cell_type": "markdown",
   "metadata": {},
   "source": [
    "**Q:** Create the following products: `spaghetti`, `bolognese sauce`, `cheese`, `apple`."
   ]
  },
  {
   "cell_type": "code",
   "execution_count": 52,
   "metadata": {},
   "outputs": [
    {
     "data": {
      "text/plain": [
       "[<pyorient.otypes.OrientRecord at 0x238811d2f28>]"
      ]
     },
     "execution_count": 52,
     "metadata": {},
     "output_type": "execute_result"
    }
   ],
   "source": [
    "products = ['spaghetti', 'bolognese sauce', 'cheese', 'apple']\n",
    "\n",
    "client.command(\"CREATE VERTEX Product CONTENT {'name':'spaghetti'}\")\n",
    "client.command(\"CREATE VERTEX Product CONTENT {'name':'bolognese sauce'}\")\n",
    "client.command(\"CREATE VERTEX Product CONTENT {'name':'cheese'}\")\n",
    "client.command(\"CREATE VERTEX Product CONTENT {'name':'apple'}\")"
   ]
  },
  {
   "cell_type": "code",
   "execution_count": 53,
   "metadata": {},
   "outputs": [
    {
     "name": "stdout",
     "output_type": "stream",
     "text": [
      "{'@Product':{'name': 'spaghetti'},'version':1,'rid':'#33:0'}\n"
     ]
    }
   ],
   "source": [
    "result = client.query(\"SELECT * FROM Product WHERE name = 'spaghetti'\")\n",
    "\n",
    "for product in result:\n",
    "    print(product)"
   ]
  },
  {
   "cell_type": "markdown",
   "metadata": {},
   "source": [
    "**Q:** Create the following people: `peter`, `meredith`."
   ]
  },
  {
   "cell_type": "code",
   "execution_count": 54,
   "metadata": {},
   "outputs": [
    {
     "data": {
      "text/plain": [
       "[<pyorient.otypes.OrientRecord at 0x238811d2e10>]"
      ]
     },
     "execution_count": 54,
     "metadata": {},
     "output_type": "execute_result"
    }
   ],
   "source": [
    "peoples = ['peter', 'meredith']\n",
    "\n",
    "client.command(\"CREATE VERTEX Person CONTENT {'nickname':'peter'}\")\n",
    "client.command(\"CREATE VERTEX Person CONTENT {'nickname':'meredith'}\")"
   ]
  },
  {
   "cell_type": "code",
   "execution_count": 55,
   "metadata": {},
   "outputs": [
    {
     "name": "stdout",
     "output_type": "stream",
     "text": [
      "{'@Person':{'nickname': 'peter'},'version':1,'rid':'#45:0'}\n",
      "{'@Person':{'nickname': 'meredith'},'version':1,'rid':'#46:0'}\n"
     ]
    }
   ],
   "source": [
    "result2 = client.query(\"SELECT * FROM Person\")\n",
    "\n",
    "for p in result2:\n",
    "    print(p)"
   ]
  },
  {
   "cell_type": "markdown",
   "metadata": {},
   "source": [
    "**Q:** Create the following purchases: \n",
    "- peter > spaghetti + cheese on 20/01/2016 \n",
    "- meredith > cheese + apple + bolognese sauce on 22/01/2016\n",
    "- peter > spaghetti + bolognese sauce on 27/01/2016\n"
   ]
  },
  {
   "cell_type": "code",
   "execution_count": 56,
   "metadata": {},
   "outputs": [
    {
     "ename": "PyOrientCommandException",
     "evalue": "com.orientechnologies.orient.core.exception.OCommandExecutionException - No edge has been created because no target vertices: com.orientechnologies.orient.graph.sql.OCommandExecutorSQLCreateEdge$1@1e2e0d4d\r\n\tDB name=\"eCommerce\"",
     "output_type": "error",
     "traceback": [
      "\u001b[1;31m---------------------------------------------------------------------------\u001b[0m",
      "\u001b[1;31mPyOrientCommandException\u001b[0m                  Traceback (most recent call last)",
      "\u001b[1;32m~\\AppData\\Local\\Temp\\ipykernel_2576\\606594510.py\u001b[0m in \u001b[0;36m<module>\u001b[1;34m\u001b[0m\n\u001b[0;32m      4\u001b[0m \u001b[1;33m\u001b[0m\u001b[0m\n\u001b[0;32m      5\u001b[0m \u001b[1;31m#meredith 22/01/2016\u001b[0m\u001b[1;33m\u001b[0m\u001b[1;33m\u001b[0m\u001b[1;33m\u001b[0m\u001b[0m\n\u001b[1;32m----> 6\u001b[1;33m \u001b[0mclient\u001b[0m\u001b[1;33m.\u001b[0m\u001b[0mcommand\u001b[0m\u001b[1;33m(\u001b[0m\u001b[1;34m\"CREATE EDGE Purchased FROM (SELECT * FROM Person WHERE nickname = 'meredith') TO (SELECT * FROM Product WHERE name = 'chesse') CONTENT {date:'22/01/2016'}\"\u001b[0m\u001b[1;33m)\u001b[0m\u001b[1;33m\u001b[0m\u001b[1;33m\u001b[0m\u001b[0m\n\u001b[0m\u001b[0;32m      7\u001b[0m \u001b[0mclient\u001b[0m\u001b[1;33m.\u001b[0m\u001b[0mcommand\u001b[0m\u001b[1;33m(\u001b[0m\u001b[1;34m\"CREATE EDGE Purchased FROM (SELECT * FROM Person WHERE nickname = 'meredith') TO (SELECT * FROM Product WHERE name = 'apple') CONTENT {date:'22/01/2016'}\"\u001b[0m\u001b[1;33m)\u001b[0m\u001b[1;33m\u001b[0m\u001b[1;33m\u001b[0m\u001b[0m\n\u001b[0;32m      8\u001b[0m \u001b[0mclient\u001b[0m\u001b[1;33m.\u001b[0m\u001b[0mcommand\u001b[0m\u001b[1;33m(\u001b[0m\u001b[1;34m\"CREATE EDGE Purchased FROM (SELECT * FROM Person WHERE nickname = 'meredith') TO (SELECT * FROM Product WHERE name = 'bolognese sauce') CONTENT {date:'22/01/2016'}\"\u001b[0m\u001b[1;33m)\u001b[0m\u001b[1;33m\u001b[0m\u001b[1;33m\u001b[0m\u001b[0m\n",
      "\u001b[1;32mc:\\Anaconda3\\envs\\nosql\\lib\\site-packages\\pyorient\\orient.py\u001b[0m in \u001b[0;36mcommand\u001b[1;34m(self, *args)\u001b[0m\n\u001b[0;32m    460\u001b[0m     \u001b[1;32mdef\u001b[0m \u001b[0mcommand\u001b[0m\u001b[1;33m(\u001b[0m\u001b[0mself\u001b[0m\u001b[1;33m,\u001b[0m \u001b[1;33m*\u001b[0m\u001b[0margs\u001b[0m\u001b[1;33m)\u001b[0m\u001b[1;33m:\u001b[0m\u001b[1;33m\u001b[0m\u001b[1;33m\u001b[0m\u001b[0m\n\u001b[0;32m    461\u001b[0m         \u001b[1;32mreturn\u001b[0m \u001b[0mself\u001b[0m\u001b[1;33m.\u001b[0m\u001b[0mget_message\u001b[0m\u001b[1;33m(\u001b[0m\u001b[1;34m\"CommandMessage\"\u001b[0m\u001b[1;33m)\u001b[0m\u001b[0;31m \u001b[0m\u001b[0;31m\\\u001b[0m\u001b[1;33m\u001b[0m\u001b[1;33m\u001b[0m\u001b[0m\n\u001b[1;32m--> 462\u001b[1;33m             \u001b[1;33m.\u001b[0m\u001b[0mprepare\u001b[0m\u001b[1;33m(\u001b[0m\u001b[1;33m(\u001b[0m \u001b[0mQUERY_CMD\u001b[0m\u001b[1;33m,\u001b[0m \u001b[1;33m)\u001b[0m \u001b[1;33m+\u001b[0m \u001b[0margs\u001b[0m\u001b[1;33m)\u001b[0m\u001b[1;33m.\u001b[0m\u001b[0msend\u001b[0m\u001b[1;33m(\u001b[0m\u001b[1;33m)\u001b[0m\u001b[1;33m.\u001b[0m\u001b[0mfetch_response\u001b[0m\u001b[1;33m(\u001b[0m\u001b[1;33m)\u001b[0m\u001b[1;33m\u001b[0m\u001b[1;33m\u001b[0m\u001b[0m\n\u001b[0m\u001b[0;32m    463\u001b[0m \u001b[1;33m\u001b[0m\u001b[0m\n\u001b[0;32m    464\u001b[0m     \u001b[1;32mdef\u001b[0m \u001b[0mbatch\u001b[0m\u001b[1;33m(\u001b[0m\u001b[0mself\u001b[0m\u001b[1;33m,\u001b[0m \u001b[1;33m*\u001b[0m\u001b[0margs\u001b[0m\u001b[1;33m)\u001b[0m\u001b[1;33m:\u001b[0m\u001b[1;33m\u001b[0m\u001b[1;33m\u001b[0m\u001b[0m\n",
      "\u001b[1;32mc:\\Anaconda3\\envs\\nosql\\lib\\site-packages\\pyorient\\messages\\commands.py\u001b[0m in \u001b[0;36mfetch_response\u001b[1;34m(self)\u001b[0m\n\u001b[0;32m    142\u001b[0m \u001b[1;33m\u001b[0m\u001b[0m\n\u001b[0;32m    143\u001b[0m         \u001b[1;31m# decode header only\u001b[0m\u001b[1;33m\u001b[0m\u001b[1;33m\u001b[0m\u001b[1;33m\u001b[0m\u001b[0m\n\u001b[1;32m--> 144\u001b[1;33m         \u001b[0msuper\u001b[0m\u001b[1;33m(\u001b[0m \u001b[0mCommandMessage\u001b[0m\u001b[1;33m,\u001b[0m \u001b[0mself\u001b[0m \u001b[1;33m)\u001b[0m\u001b[1;33m.\u001b[0m\u001b[0mfetch_response\u001b[0m\u001b[1;33m(\u001b[0m\u001b[1;33m)\u001b[0m\u001b[1;33m\u001b[0m\u001b[1;33m\u001b[0m\u001b[0m\n\u001b[0m\u001b[0;32m    145\u001b[0m \u001b[1;33m\u001b[0m\u001b[0m\n\u001b[0;32m    146\u001b[0m         \u001b[1;32mif\u001b[0m \u001b[0mself\u001b[0m\u001b[1;33m.\u001b[0m\u001b[0m_command_type\u001b[0m \u001b[1;33m==\u001b[0m \u001b[0mQUERY_ASYNC\u001b[0m\u001b[1;33m:\u001b[0m\u001b[1;33m\u001b[0m\u001b[1;33m\u001b[0m\u001b[0m\n",
      "\u001b[1;32mc:\\Anaconda3\\envs\\nosql\\lib\\site-packages\\pyorient\\messages\\base.py\u001b[0m in \u001b[0;36mfetch_response\u001b[1;34m(self, *_continue)\u001b[0m\n\u001b[0;32m    263\u001b[0m         \u001b[1;31m# already fetched, get last results as cache info\u001b[0m\u001b[1;33m\u001b[0m\u001b[1;33m\u001b[0m\u001b[1;33m\u001b[0m\u001b[0m\n\u001b[0;32m    264\u001b[0m         \u001b[1;32melif\u001b[0m \u001b[0mlen\u001b[0m\u001b[1;33m(\u001b[0m\u001b[0mself\u001b[0m\u001b[1;33m.\u001b[0m\u001b[0m_body\u001b[0m\u001b[1;33m)\u001b[0m \u001b[1;32mis\u001b[0m \u001b[1;36m0\u001b[0m\u001b[1;33m:\u001b[0m\u001b[1;33m\u001b[0m\u001b[1;33m\u001b[0m\u001b[0m\n\u001b[1;32m--> 265\u001b[1;33m             \u001b[0mself\u001b[0m\u001b[1;33m.\u001b[0m\u001b[0m_decode_all\u001b[0m\u001b[1;33m(\u001b[0m\u001b[1;33m)\u001b[0m\u001b[1;33m\u001b[0m\u001b[1;33m\u001b[0m\u001b[0m\n\u001b[0m\u001b[0;32m    266\u001b[0m             \u001b[0mself\u001b[0m\u001b[1;33m.\u001b[0m\u001b[0mdump_streams\u001b[0m\u001b[1;33m(\u001b[0m\u001b[1;33m)\u001b[0m\u001b[1;33m\u001b[0m\u001b[1;33m\u001b[0m\u001b[0m\n\u001b[0;32m    267\u001b[0m         \u001b[1;32mreturn\u001b[0m \u001b[0mself\u001b[0m\u001b[1;33m.\u001b[0m\u001b[0m_body\u001b[0m\u001b[1;33m\u001b[0m\u001b[1;33m\u001b[0m\u001b[0m\n",
      "\u001b[1;32mc:\\Anaconda3\\envs\\nosql\\lib\\site-packages\\pyorient\\messages\\base.py\u001b[0m in \u001b[0;36m_decode_all\u001b[1;34m(self)\u001b[0m\n\u001b[0;32m    247\u001b[0m \u001b[1;33m\u001b[0m\u001b[0m\n\u001b[0;32m    248\u001b[0m     \u001b[1;32mdef\u001b[0m \u001b[0m_decode_all\u001b[0m\u001b[1;33m(\u001b[0m\u001b[0mself\u001b[0m\u001b[1;33m)\u001b[0m\u001b[1;33m:\u001b[0m\u001b[1;33m\u001b[0m\u001b[1;33m\u001b[0m\u001b[0m\n\u001b[1;32m--> 249\u001b[1;33m         \u001b[0mself\u001b[0m\u001b[1;33m.\u001b[0m\u001b[0m_decode_header\u001b[0m\u001b[1;33m(\u001b[0m\u001b[1;33m)\u001b[0m\u001b[1;33m\u001b[0m\u001b[1;33m\u001b[0m\u001b[0m\n\u001b[0m\u001b[0;32m    250\u001b[0m         \u001b[0mself\u001b[0m\u001b[1;33m.\u001b[0m\u001b[0m_decode_body\u001b[0m\u001b[1;33m(\u001b[0m\u001b[1;33m)\u001b[0m\u001b[1;33m\u001b[0m\u001b[1;33m\u001b[0m\u001b[0m\n\u001b[0;32m    251\u001b[0m \u001b[1;33m\u001b[0m\u001b[0m\n",
      "\u001b[1;32mc:\\Anaconda3\\envs\\nosql\\lib\\site-packages\\pyorient\\messages\\base.py\u001b[0m in \u001b[0;36m_decode_header\u001b[1;34m(self)\u001b[0m\n\u001b[0;32m    180\u001b[0m             raise PyOrientCommandException(\n\u001b[0;32m    181\u001b[0m                 \u001b[0mexception_class\u001b[0m\u001b[1;33m.\u001b[0m\u001b[0mdecode\u001b[0m\u001b[1;33m(\u001b[0m \u001b[1;34m'utf8'\u001b[0m \u001b[1;33m)\u001b[0m\u001b[1;33m,\u001b[0m\u001b[1;33m\u001b[0m\u001b[1;33m\u001b[0m\u001b[0m\n\u001b[1;32m--> 182\u001b[1;33m                 \u001b[1;33m[\u001b[0m \u001b[0mexception_message\u001b[0m\u001b[1;33m.\u001b[0m\u001b[0mdecode\u001b[0m\u001b[1;33m(\u001b[0m \u001b[1;34m'utf8'\u001b[0m \u001b[1;33m)\u001b[0m \u001b[1;33m]\u001b[0m\u001b[1;33m\u001b[0m\u001b[1;33m\u001b[0m\u001b[0m\n\u001b[0m\u001b[0;32m    183\u001b[0m             )\n\u001b[0;32m    184\u001b[0m \u001b[1;33m\u001b[0m\u001b[0m\n",
      "\u001b[1;31mPyOrientCommandException\u001b[0m: com.orientechnologies.orient.core.exception.OCommandExecutionException - No edge has been created because no target vertices: com.orientechnologies.orient.graph.sql.OCommandExecutorSQLCreateEdge$1@1e2e0d4d\r\n\tDB name=\"eCommerce\""
     ]
    }
   ],
   "source": [
    "#peter 20/01/2016\n",
    "client.command(\"CREATE EDGE Purchased FROM (SELECT * FROM Person WHERE nickname = 'peter') TO (SELECT * FROM Product WHERE name = 'spaghetti') CONTENT {date:'20/01/2016'}\")\n",
    "client.command(\"CREATE EDGE Purchased FROM (SELECT * FROM Person WHERE nickname = 'peter') TO (SELECT * FROM Product WHERE name = 'cheese') CONTENT {date:'20/01/2016'}\")\n",
    "\n",
    "#meredith 22/01/2016\n",
    "client.command(\"CREATE EDGE Purchased FROM (SELECT * FROM Person WHERE nickname = 'meredith') TO (SELECT * FROM Product WHERE name = 'chesse') CONTENT {date:'22/01/2016'}\")\n",
    "client.command(\"CREATE EDGE Purchased FROM (SELECT * FROM Person WHERE nickname = 'meredith') TO (SELECT * FROM Product WHERE name = 'apple') CONTENT {date:'22/01/2016'}\")\n",
    "client.command(\"CREATE EDGE Purchased FROM (SELECT * FROM Person WHERE nickname = 'meredith') TO (SELECT * FROM Product WHERE name = 'bolognese sauce') CONTENT {date:'22/01/2016'}\")\n",
    "\n",
    "#peter 27/01/2016\n",
    "client.command(\"CREATE EDGE Purchased FROM (SELECT * FROM Person WHERE nickname = 'peter') TO (SELECT * FROM Product WHERE name = 'spaghetti') CONTENT {date:'27/01/2016'}\")\n",
    "client.command(\"CREATE EDGE Purchased FROM (SELECT * FROM Person WHERE nickname = 'peter') TO (SELECT * FROM Product WHERE name = 'bolognese sauce') CONTENT {date:'27/01/2016'}\")"
   ]
  },
  {
   "cell_type": "markdown",
   "metadata": {},
   "source": [
    "**Q:** Who bought Bolognese sauce?"
   ]
  },
  {
   "cell_type": "code",
   "execution_count": null,
   "metadata": {},
   "outputs": [],
   "source": []
  },
  {
   "cell_type": "markdown",
   "metadata": {},
   "source": [
    "**Q:** It is possible to link the `out` and `in` navigation functions. What products are purchased with Bolognese sauce? "
   ]
  },
  {
   "cell_type": "code",
   "execution_count": null,
   "metadata": {},
   "outputs": [],
   "source": []
  },
  {
   "cell_type": "markdown",
   "metadata": {},
   "source": [
    "## Postquisites"
   ]
  },
  {
   "cell_type": "markdown",
   "metadata": {},
   "source": [
    "Since we create databases in memory, they get destroyed on server shutdown."
   ]
  }
 ],
 "metadata": {
  "kernelspec": {
   "display_name": "nosql",
   "language": "python",
   "name": "python3"
  },
  "language_info": {
   "codemirror_mode": {
    "name": "ipython",
    "version": 3
   },
   "file_extension": ".py",
   "mimetype": "text/x-python",
   "name": "python",
   "nbconvert_exporter": "python",
   "pygments_lexer": "ipython3",
   "version": "3.7.1"
  }
 },
 "nbformat": 4,
 "nbformat_minor": 2
}
